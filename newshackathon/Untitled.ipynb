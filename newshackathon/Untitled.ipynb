{
 "cells": [
  {
   "cell_type": "code",
   "execution_count": 1,
   "metadata": {},
   "outputs": [],
   "source": [
    "import numpy as np\n",
    "from collections import Counter\n",
    "import json\n",
    "from nltk.tokenize import word_tokenize\n",
    "from nltk.stem import WordNetLemmatizer\n",
    "\n",
    "def json_load(filename):\n",
    "    \n",
    "    with open(filename) as open_file:\n",
    "    \n",
    "        parsed_json = json.load(open_file)\n",
    "\n",
    "        strs = []\n",
    "        strs.append(parsed_json['title'])\n",
    "        strs.append(parsed_json['text'])\n",
    "        strs.append(parsed_json['source'])\n",
    "\n",
    "    return strs\n",
    "\n",
    "\n",
    "def _clean(word):\n",
    "    messy_symbols = r\"~!@#$%^&*()_+1234567890-=|}{[]\\\":;'/.,<>?’`\"\n",
    "    for symbol in messy_symbols:\n",
    "        word = word.replace(symbol, \"\")\n",
    "\n",
    "    return word\n",
    "\n",
    "\n",
    "def count_words(text):\n",
    "    tokens = word_tokenize(text.lower())\n",
    "    tokens = [_clean(t) for t in tokens]\n",
    "    lemmatizer = WordNetLemmatizer()\n",
    "    lemmas = [lemmatizer.lemmatize(t) for t in tokens]\n",
    "    lemmas = [l for l in lemmas if len(l) > 1]\n",
    "    return dict(Counter(lemmas))\n",
    "\n",
    "\n",
    "def scrap_data(url):\n",
    "    source = requests.get(url, timeout=20)\n",
    "    if not source:\n",
    "        raise ConnectionError('Couldn\\'t get a source from {}'.format(source))\n",
    "\n",
    "    soup = BeautifulSoup(source.text, 'html.parser')\n",
    "    article_container = _extract_article_container(soup)\n",
    "    if not article_container:\n",
    "        raise ConnectionError('Couldn\\'t find any article at {}'.format(source))\n",
    "\n",
    "    domain = _extract_domain(url)\n",
    "    title = _extract_title(article_container)\n",
    "    body = _extract_body(article_container)\n",
    "    return domain, title, body\n",
    "\n",
    "\n",
    "def _extract_domain(url):\n",
    "    parsed = urlparse(url)\n",
    "    domain = '{uri.netloc}'.format(uri=parsed)\n",
    "    return domain\n",
    "\n",
    "\n",
    "def _extract_article_container(soup):\n",
    "    if soup.find('div', {'class': 'post'}):\n",
    "        return soup.find('div', {'class': 'post'})\n",
    "\n",
    "    if soup.find('div', {'class': 'article-container'}):\n",
    "        return soup.find('div', {'class': 'article-container'})\n",
    "\n",
    "    if soup.find('div', {'class': 'article-text'}):\n",
    "        return soup.find('div', {'class': 'article-text'})\n",
    "\n",
    "    if soup.find('article', {'class': 'a-main'}):\n",
    "        return soup.find('article', {'class': 'a-main'})\n",
    "\n",
    "    if soup.find('div', {'class': 'js-article-inner'}):\n",
    "        return soup.find('div', {'class': 'js-article-inner'})\n",
    "\n",
    "    if soup.article:\n",
    "        return soup.article\n",
    "\n",
    "    if soup.find('div', {'class': 'story-body'}):\n",
    "        return soup.find('div', {'class': 'story-body'})\n",
    "\n",
    "    if soup.find('div', {'id': 'content-start'}):\n",
    "        return soup.find('div', {'id': 'content-start'})\n",
    "\n",
    "    if soup.find('div', {'class': 'entry-content'}):\n",
    "        return soup.find('div', {'class': 'entry-content'})\n",
    "\n",
    "    if soup.find('div', {'class': 'td-post-content'}):\n",
    "        return soup.find('div', {'class': 'td-post-content'})\n",
    "\n",
    "    if soup.find('div', {'class': 'theiaPostSlider_slides'}):\n",
    "        return soup.find('div', {'class': 'theiaPostSlider_slides'})\n",
    "\n",
    "    return None\n",
    "\n",
    "\n",
    "def _extract_title(article):\n",
    "    if article.h1:\n",
    "        return article.h1.getText().strip()\n",
    "\n",
    "    if article.h2:\n",
    "        return article.h2.getText().strip()\n",
    "\n",
    "    if article.header:\n",
    "        return article.header.getText().strip()\n",
    "\n",
    "    return None\n",
    "\n",
    "\n",
    "def _extract_body(article):\n",
    "    return ' '.join([p.getText().strip() for p in(article.findAll('p') + article.findAll('span'))])\n",
    "\n",
    "def constructDataSet():\n",
    "    \"\"\"\"\"\"\n",
    "    buzzfeed_real_files = []\n",
    "\n",
    "    for i in range(1,92):\n",
    "        file_name = \"BuzzFeed_Real_\" +str(i) + \"-Webpage.json\"\n",
    "        buzzfeed_real_files.append(file_name)\n",
    "\n",
    "\n",
    "    buzzfeed_fake_files = []\n",
    "    for i in range(1,92):\n",
    "        file_name = \"BuzzFeed_Fake_\" +str(i) + \"-Webpage.json\"\n",
    "        buzzfeed_fake_files.append(file_name)\n",
    "\n",
    "    polifact_real_files = []\n",
    "    for i in range(1, 121):\n",
    "        file_name = \"PolitiFact_Real_\" +str(i) + \"-Webpage.json\"\n",
    "        polifact_real_files.append(file_name)\n",
    "\n",
    "\n",
    "    polifact_fake_files = []\n",
    "    for i in range(1, 121):\n",
    "        file_name = \"PolitiFact_Fake_\" +str(i) + \"-Webpage.json\"\n",
    "        polifact_fake_files.append(file_name)\n",
    "\n",
    "    real_files = buzzfeed_real_files + polifact_real_files\n",
    "    fake_files = buzzfeed_fake_files + polifact_fake_files\n",
    "\n",
    "    # all words\n",
    "    all_words = dict()\n",
    "\n",
    "    for file in real_files:\n",
    "        array = json_load(file)\n",
    "        word_freq_dict = count_words(array[1])\n",
    "        all_words = Counter(all_words) + Counter(word_freq_dict)\n",
    "\n",
    "    for file in fake_files:\n",
    "        array = json_load(file)\n",
    "        word_freq_dict = count_words(array[1])\n",
    "        all_words = Counter(all_words) + Counter(word_freq_dict)\n",
    "\n",
    "    all_words_ls = [*all_words]\n",
    "\n",
    "    word_index_dict = dict()\n",
    "    for i in range(0, len(all_words_ls)):\n",
    "        word_index_dict[all_words_ls[i]] = i\n",
    "\n",
    "    # num of row = num of docs(news)\n",
    "    # num of column = num of word features + 1 (url) + 1 (title) + 1 (label fake or real)\n",
    "    num_of_word_features = len(all_words_ls)\n",
    "    train_data = np.empty([(91+91+120+120), (num_of_word_features + 3)])\n",
    "    index_url = num_of_word_features\n",
    "    index_title = num_of_word_features+1\n",
    "    index_label = num_of_word_features+2\n",
    "\n",
    "    counter = 0\n",
    "    for file in real_files:\n",
    "        array = json_load(file)\n",
    "        word_freq_dict = count_words(array[1])\n",
    "        for word, freq in word_freq_dict.items():\n",
    "            train_data[counter][word_index_dict[word]] = freq\n",
    "            #train_data[counter][index_url] = array[2]\n",
    "            #train_data[counter][index_title] = array[0]\n",
    "            train_data[counter][index_label] = 1\n",
    "        counter += 1\n",
    "\n",
    "    for file in fake_files:\n",
    "        array = json_load(file)\n",
    "        word_freq_dict = count_words(array[1])\n",
    "        for word, freq in word_freq_dict.items():\n",
    "            train_data[counter][word_index_dict[word]] = freq\n",
    "            #train_data[counter][index_url] = array[2]\n",
    "            #train_data[counter][index_title] = array[0]\n",
    "            train_data[counter][index_label] = 0\n",
    "        counter += 1\n",
    "\n",
    "    return train_data"
   ]
  },
  {
   "cell_type": "code",
   "execution_count": 2,
   "metadata": {
    "scrolled": false
   },
   "outputs": [],
   "source": [
    "train_data=constructDataSet()"
   ]
  },
  {
   "cell_type": "code",
   "execution_count": 62,
   "metadata": {},
   "outputs": [
    {
     "data": {
      "text/plain": [
       "array([[ 8.,  3.,  2., ...,  0.,  0.,  1.],\n",
       "       [ 1.,  0.,  0., ...,  0.,  0.,  1.],\n",
       "       [ 2.,  0.,  0., ...,  0.,  0.,  1.],\n",
       "       ..., \n",
       "       [ 3.,  0.,  0., ...,  0.,  0.,  0.],\n",
       "       [ 0.,  0.,  0., ...,  0.,  0.,  0.],\n",
       "       [ 5.,  0.,  0., ...,  0.,  0.,  0.]])"
      ]
     },
     "execution_count": 62,
     "metadata": {},
     "output_type": "execute_result"
    }
   ],
   "source": [
    "train_data"
   ]
  },
  {
   "cell_type": "code",
   "execution_count": 146,
   "metadata": {},
   "outputs": [],
   "source": [
    "import seaborn as sns\n",
    "import matplotlib.pyplot as plt\n",
    "import pandas as pd\n",
    "import numpy as np\n",
    "import os\n",
    "import sklearn as sklearn\n",
    "%matplotlib inline"
   ]
  },
  {
   "cell_type": "code",
   "execution_count": 147,
   "metadata": {},
   "outputs": [],
   "source": [
    "from sklearn.tree import DecisionTreeRegressor\n",
    "from sklearn.ensemble import RandomForestClassifier\n",
    "from sklearn.linear_model import LogisticRegression, LogisticRegressionCV\n",
    "from sklearn.svm import SVC\n",
    "from sklearn.naive_bayes import GaussianNB\n",
    "\n",
    "from sklearn.metrics import accuracy_score\n",
    "from sklearn.cross_validation import train_test_split\n",
    "\n",
    "\n"
   ]
  },
  {
   "cell_type": "code",
   "execution_count": 148,
   "metadata": {},
   "outputs": [],
   "source": [
    "X = train_data[:,:-1]"
   ]
  },
  {
   "cell_type": "code",
   "execution_count": 149,
   "metadata": {},
   "outputs": [],
   "source": [
    "Y = train_data[:,-1]"
   ]
  },
  {
   "cell_type": "code",
   "execution_count": 150,
   "metadata": {},
   "outputs": [],
   "source": [
    "X_train, X_test, Y_train, Y_test = train_test_split(X, Y, train_size = 0.8, random_state=42)\n"
   ]
  },
  {
   "cell_type": "code",
   "execution_count": 151,
   "metadata": {},
   "outputs": [
    {
     "data": {
      "text/plain": [
       "0.68235294117647061"
      ]
     },
     "execution_count": 151,
     "metadata": {},
     "output_type": "execute_result"
    }
   ],
   "source": [
    "gnb = GaussianNB()\n",
    "gnb.fit(X_train, Y_train)\n",
    "\n",
    "accuracy_score(Y_test, gnb.predict(X_test))"
   ]
  },
  {
   "cell_type": "code",
   "execution_count": 152,
   "metadata": {},
   "outputs": [
    {
     "data": {
      "text/plain": [
       "0.72941176470588232"
      ]
     },
     "execution_count": 152,
     "metadata": {},
     "output_type": "execute_result"
    }
   ],
   "source": [
    "rf = RandomForestClassifier(max_features=200,max_depth=300)\n",
    "rf.fit(X_train, Y_train)\n",
    "\n",
    "accuracy_score(Y_test, rf.predict(X_test))\n"
   ]
  },
  {
   "cell_type": "code",
   "execution_count": 153,
   "metadata": {},
   "outputs": [
    {
     "data": {
      "text/plain": [
       "0.54117647058823526"
      ]
     },
     "execution_count": 153,
     "metadata": {},
     "output_type": "execute_result"
    }
   ],
   "source": [
    "svc_poly = SVC(kernel=\"poly\").fit(X_train, Y_train)\n",
    "svc_poly.score(X_test, Y_test)"
   ]
  },
  {
   "cell_type": "code",
   "execution_count": 154,
   "metadata": {},
   "outputs": [
    {
     "data": {
      "text/plain": [
       "0.81176470588235294"
      ]
     },
     "execution_count": 154,
     "metadata": {},
     "output_type": "execute_result"
    }
   ],
   "source": [
    "svc_linear = SVC(kernel=\"linear\").fit(X_train, Y_train)\n",
    "svc_linear.score(X_test, Y_test)"
   ]
  },
  {
   "cell_type": "code",
   "execution_count": 155,
   "metadata": {},
   "outputs": [
    {
     "data": {
      "text/plain": [
       "0.6470588235294118"
      ]
     },
     "execution_count": 155,
     "metadata": {},
     "output_type": "execute_result"
    }
   ],
   "source": [
    "svc_rbf = SVC(kernel=\"rbf\").fit(X_train, Y_train)\n",
    "svc_rbf.score(X_test, Y_test)"
   ]
  },
  {
   "cell_type": "code",
   "execution_count": null,
   "metadata": {},
   "outputs": [],
   "source": []
  },
  {
   "cell_type": "code",
   "execution_count": null,
   "metadata": {},
   "outputs": [],
   "source": []
  }
 ],
 "metadata": {
  "kernelspec": {
   "display_name": "Python 3",
   "language": "python",
   "name": "python3"
  },
  "language_info": {
   "codemirror_mode": {
    "name": "ipython",
    "version": 3
   },
   "file_extension": ".py",
   "mimetype": "text/x-python",
   "name": "python",
   "nbconvert_exporter": "python",
   "pygments_lexer": "ipython3",
   "version": "3.6.4"
  }
 },
 "nbformat": 4,
 "nbformat_minor": 2
}
